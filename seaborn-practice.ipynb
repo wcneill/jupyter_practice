{
 "cells": [
  {
   "cell_type": "markdown",
   "metadata": {},
   "source": [
    "Ok, Mike said I should learn seaborn, Jupyter notebooks and PCA. Why not try to do all three at once? Overload... maybe. But here we go! \n",
    "\n",
    "First, let's take care of our imports:"
   ]
  },
  {
   "cell_type": "code",
   "execution_count": 128,
   "metadata": {},
   "outputs": [],
   "source": [
    "import seaborn as sb\n",
    "from matplotlib import pyplot as plt\n",
    "import numpy as np\n",
    "import pandas as pd\n",
    "\n",
    "sb.set_style(\"darkgrid\")"
   ]
  },
  {
   "cell_type": "markdown",
   "metadata": {},
   "source": [
    "Now lets read our data in and get it into shape a little:"
   ]
  },
  {
   "cell_type": "code",
   "execution_count": 129,
   "metadata": {},
   "outputs": [
    {
     "data": {
      "text/html": [
       "<div>\n",
       "<style scoped>\n",
       "    .dataframe tbody tr th:only-of-type {\n",
       "        vertical-align: middle;\n",
       "    }\n",
       "\n",
       "    .dataframe tbody tr th {\n",
       "        vertical-align: top;\n",
       "    }\n",
       "\n",
       "    .dataframe thead th {\n",
       "        text-align: right;\n",
       "    }\n",
       "</style>\n",
       "<table border=\"1\" class=\"dataframe\">\n",
       "  <thead>\n",
       "    <tr style=\"text-align: right;\">\n",
       "      <th></th>\n",
       "      <th>sepal length</th>\n",
       "      <th>sepal width</th>\n",
       "      <th>petal length</th>\n",
       "      <th>petal width</th>\n",
       "    </tr>\n",
       "    <tr>\n",
       "      <th>classification</th>\n",
       "      <th></th>\n",
       "      <th></th>\n",
       "      <th></th>\n",
       "      <th></th>\n",
       "    </tr>\n",
       "  </thead>\n",
       "  <tbody>\n",
       "    <tr>\n",
       "      <th>Iris-setosa</th>\n",
       "      <td>5.1</td>\n",
       "      <td>3.5</td>\n",
       "      <td>1.4</td>\n",
       "      <td>0.2</td>\n",
       "    </tr>\n",
       "    <tr>\n",
       "      <th>Iris-setosa</th>\n",
       "      <td>4.9</td>\n",
       "      <td>3.0</td>\n",
       "      <td>1.4</td>\n",
       "      <td>0.2</td>\n",
       "    </tr>\n",
       "    <tr>\n",
       "      <th>Iris-setosa</th>\n",
       "      <td>4.7</td>\n",
       "      <td>3.2</td>\n",
       "      <td>1.3</td>\n",
       "      <td>0.2</td>\n",
       "    </tr>\n",
       "    <tr>\n",
       "      <th>Iris-setosa</th>\n",
       "      <td>4.6</td>\n",
       "      <td>3.1</td>\n",
       "      <td>1.5</td>\n",
       "      <td>0.2</td>\n",
       "    </tr>\n",
       "    <tr>\n",
       "      <th>Iris-setosa</th>\n",
       "      <td>5.0</td>\n",
       "      <td>3.6</td>\n",
       "      <td>1.4</td>\n",
       "      <td>0.2</td>\n",
       "    </tr>\n",
       "    <tr>\n",
       "      <th>...</th>\n",
       "      <td>...</td>\n",
       "      <td>...</td>\n",
       "      <td>...</td>\n",
       "      <td>...</td>\n",
       "    </tr>\n",
       "    <tr>\n",
       "      <th>Iris-virginica</th>\n",
       "      <td>6.7</td>\n",
       "      <td>3.0</td>\n",
       "      <td>5.2</td>\n",
       "      <td>2.3</td>\n",
       "    </tr>\n",
       "    <tr>\n",
       "      <th>Iris-virginica</th>\n",
       "      <td>6.3</td>\n",
       "      <td>2.5</td>\n",
       "      <td>5.0</td>\n",
       "      <td>1.9</td>\n",
       "    </tr>\n",
       "    <tr>\n",
       "      <th>Iris-virginica</th>\n",
       "      <td>6.5</td>\n",
       "      <td>3.0</td>\n",
       "      <td>5.2</td>\n",
       "      <td>2.0</td>\n",
       "    </tr>\n",
       "    <tr>\n",
       "      <th>Iris-virginica</th>\n",
       "      <td>6.2</td>\n",
       "      <td>3.4</td>\n",
       "      <td>5.4</td>\n",
       "      <td>2.3</td>\n",
       "    </tr>\n",
       "    <tr>\n",
       "      <th>Iris-virginica</th>\n",
       "      <td>5.9</td>\n",
       "      <td>3.0</td>\n",
       "      <td>5.1</td>\n",
       "      <td>1.8</td>\n",
       "    </tr>\n",
       "  </tbody>\n",
       "</table>\n",
       "<p>150 rows × 4 columns</p>\n",
       "</div>"
      ],
      "text/plain": [
       "                sepal length  sepal width  petal length  petal width\n",
       "classification                                                      \n",
       "Iris-setosa              5.1          3.5           1.4          0.2\n",
       "Iris-setosa              4.9          3.0           1.4          0.2\n",
       "Iris-setosa              4.7          3.2           1.3          0.2\n",
       "Iris-setosa              4.6          3.1           1.5          0.2\n",
       "Iris-setosa              5.0          3.6           1.4          0.2\n",
       "...                      ...          ...           ...          ...\n",
       "Iris-virginica           6.7          3.0           5.2          2.3\n",
       "Iris-virginica           6.3          2.5           5.0          1.9\n",
       "Iris-virginica           6.5          3.0           5.2          2.0\n",
       "Iris-virginica           6.2          3.4           5.4          2.3\n",
       "Iris-virginica           5.9          3.0           5.1          1.8\n",
       "\n",
       "[150 rows x 4 columns]"
      ]
     },
     "execution_count": 129,
     "metadata": {},
     "output_type": "execute_result"
    }
   ],
   "source": [
    "# get variable names\n",
    "cols = ['sepal length', 'sepal width', 'petal length', 'petal width', 'classification']\n",
    "\n",
    "# read in iris data set\n",
    "Z = pd.read_csv('data/iris.data', names=cols)\n",
    "\n",
    "# set classification column data type to string\n",
    "Z['classification'] = Z['classification'].astype(\"string\")\n",
    "\n",
    "# set index by classification for easier access to subsets of the data\n",
    "Z.set_index('classification', inplace=True, drop=False)\n",
    "classification = Z.pop('classification')\n",
    "Z"
   ]
  },
  {
   "cell_type": "markdown",
   "metadata": {},
   "source": [
    "Mathematically speaking, we want to think of our rows as being samples, and our columns being vectors. In other words each row contains a single sample of each of our four variables. For the same of consistent notation, let's call our variables $x_1, x_2, x_3, x_4$ and our samples $s_1, \\dots, s_{150}$. This notation will come in handy later when we are considering the mathematical oprations we must perform on our data.\n",
    "\n",
    "Next, let's do a little preliminary plot of just two of our variables, petal length and width. This is just for fun and extra practice with seaborn:"
   ]
  },
  {
   "cell_type": "code",
   "execution_count": 145,
   "metadata": {},
   "outputs": [
    {
     "data": {
      "image/png": "[encoded data removed]",
      "text/plain": [
       "<Figure size 455.875x360 with 1 Axes>"
      ]
     },
     "metadata": {},
     "output_type": "display_data"
    },
    {
     "data": {
      "image/png": "[encoded data removed]",
      "text/plain": [
       "<Figure size 360x360 with 1 Axes>"
      ]
     },
     "metadata": {},
     "output_type": "display_data"
    }
   ],
   "source": [
    "# set figure size:\n",
    "palette = sb.color_palette(\"husl\", 3)\n",
    "x, y = (\"petal length\", \"sepal length\")\n",
    "sb.relplot(x=x, y=y, data=Z, hue=classification, palette=palette)\n",
    "sb.lmplot(x=x, y=y, data=Z, palette=palette)\n",
    "plt.show()"
   ]
  },
  {
   "cell_type": "markdown",
   "metadata": {},
   "source": [
    "From our plots we see some correlation between our variables as well as clustering based on the species. Pretty cool!\n",
    "\n",
    "Next, Let's do PCA on our entire dataset. \n",
    "\n",
    "__Step 1:__ We wish to normalize the matrix by calculating the mean of our samples $s_1, \\dots s_n$, then subtracting that mean from each sample: \n",
    "\n",
    "$$\\vec{\\mu} = \\frac{1}{n}\\sum_{i=0}^n s_i = (\\mu_{x_1}, ..., \\mu_{x_m}$$\n"
   ]
  },
  {
   "cell_type": "code",
   "execution_count": 131,
   "metadata": {},
   "outputs": [
    {
     "data": {
      "text/html": [
       "<div>\n",
       "<style scoped>\n",
       "    .dataframe tbody tr th:only-of-type {\n",
       "        vertical-align: middle;\n",
       "    }\n",
       "\n",
       "    .dataframe tbody tr th {\n",
       "        vertical-align: top;\n",
       "    }\n",
       "\n",
       "    .dataframe thead th {\n",
       "        text-align: right;\n",
       "    }\n",
       "</style>\n",
       "<table border=\"1\" class=\"dataframe\">\n",
       "  <thead>\n",
       "    <tr style=\"text-align: right;\">\n",
       "      <th></th>\n",
       "      <th>classification</th>\n",
       "      <th>petal length</th>\n",
       "      <th>petal width</th>\n",
       "      <th>sepal length</th>\n",
       "      <th>sepal width</th>\n",
       "    </tr>\n",
       "    <tr>\n",
       "      <th>classification</th>\n",
       "      <th></th>\n",
       "      <th></th>\n",
       "      <th></th>\n",
       "      <th></th>\n",
       "      <th></th>\n",
       "    </tr>\n",
       "  </thead>\n",
       "  <tbody>\n",
       "    <tr>\n",
       "      <th>Iris-setosa</th>\n",
       "      <td>NaN</td>\n",
       "      <td>-2.358667</td>\n",
       "      <td>-0.998667</td>\n",
       "      <td>-0.743333</td>\n",
       "      <td>0.446</td>\n",
       "    </tr>\n",
       "    <tr>\n",
       "      <th>Iris-setosa</th>\n",
       "      <td>NaN</td>\n",
       "      <td>-2.358667</td>\n",
       "      <td>-0.998667</td>\n",
       "      <td>-0.943333</td>\n",
       "      <td>-0.054</td>\n",
       "    </tr>\n",
       "    <tr>\n",
       "      <th>Iris-setosa</th>\n",
       "      <td>NaN</td>\n",
       "      <td>-2.458667</td>\n",
       "      <td>-0.998667</td>\n",
       "      <td>-1.143333</td>\n",
       "      <td>0.146</td>\n",
       "    </tr>\n",
       "    <tr>\n",
       "      <th>Iris-setosa</th>\n",
       "      <td>NaN</td>\n",
       "      <td>-2.258667</td>\n",
       "      <td>-0.998667</td>\n",
       "      <td>-1.243333</td>\n",
       "      <td>0.046</td>\n",
       "    </tr>\n",
       "    <tr>\n",
       "      <th>Iris-setosa</th>\n",
       "      <td>NaN</td>\n",
       "      <td>-2.358667</td>\n",
       "      <td>-0.998667</td>\n",
       "      <td>-0.843333</td>\n",
       "      <td>0.546</td>\n",
       "    </tr>\n",
       "    <tr>\n",
       "      <th>...</th>\n",
       "      <td>...</td>\n",
       "      <td>...</td>\n",
       "      <td>...</td>\n",
       "      <td>...</td>\n",
       "      <td>...</td>\n",
       "    </tr>\n",
       "    <tr>\n",
       "      <th>Iris-virginica</th>\n",
       "      <td>NaN</td>\n",
       "      <td>1.441333</td>\n",
       "      <td>1.101333</td>\n",
       "      <td>0.856667</td>\n",
       "      <td>-0.054</td>\n",
       "    </tr>\n",
       "    <tr>\n",
       "      <th>Iris-virginica</th>\n",
       "      <td>NaN</td>\n",
       "      <td>1.241333</td>\n",
       "      <td>0.701333</td>\n",
       "      <td>0.456667</td>\n",
       "      <td>-0.554</td>\n",
       "    </tr>\n",
       "    <tr>\n",
       "      <th>Iris-virginica</th>\n",
       "      <td>NaN</td>\n",
       "      <td>1.441333</td>\n",
       "      <td>0.801333</td>\n",
       "      <td>0.656667</td>\n",
       "      <td>-0.054</td>\n",
       "    </tr>\n",
       "    <tr>\n",
       "      <th>Iris-virginica</th>\n",
       "      <td>NaN</td>\n",
       "      <td>1.641333</td>\n",
       "      <td>1.101333</td>\n",
       "      <td>0.356667</td>\n",
       "      <td>0.346</td>\n",
       "    </tr>\n",
       "    <tr>\n",
       "      <th>Iris-virginica</th>\n",
       "      <td>NaN</td>\n",
       "      <td>1.341333</td>\n",
       "      <td>0.601333</td>\n",
       "      <td>0.056667</td>\n",
       "      <td>-0.054</td>\n",
       "    </tr>\n",
       "  </tbody>\n",
       "</table>\n",
       "<p>150 rows × 5 columns</p>\n",
       "</div>"
      ],
      "text/plain": [
       "                classification  petal length  petal width  sepal length  \\\n",
       "classification                                                            \n",
       "Iris-setosa                NaN     -2.358667    -0.998667     -0.743333   \n",
       "Iris-setosa                NaN     -2.358667    -0.998667     -0.943333   \n",
       "Iris-setosa                NaN     -2.458667    -0.998667     -1.143333   \n",
       "Iris-setosa                NaN     -2.258667    -0.998667     -1.243333   \n",
       "Iris-setosa                NaN     -2.358667    -0.998667     -0.843333   \n",
       "...                        ...           ...          ...           ...   \n",
       "Iris-virginica             NaN      1.441333     1.101333      0.856667   \n",
       "Iris-virginica             NaN      1.241333     0.701333      0.456667   \n",
       "Iris-virginica             NaN      1.441333     0.801333      0.656667   \n",
       "Iris-virginica             NaN      1.641333     1.101333      0.356667   \n",
       "Iris-virginica             NaN      1.341333     0.601333      0.056667   \n",
       "\n",
       "                sepal width  \n",
       "classification               \n",
       "Iris-setosa           0.446  \n",
       "Iris-setosa          -0.054  \n",
       "Iris-setosa           0.146  \n",
       "Iris-setosa           0.046  \n",
       "Iris-setosa           0.546  \n",
       "...                     ...  \n",
       "Iris-virginica       -0.054  \n",
       "Iris-virginica       -0.554  \n",
       "Iris-virginica       -0.054  \n",
       "Iris-virginica        0.346  \n",
       "Iris-virginica       -0.054  \n",
       "\n",
       "[150 rows x 5 columns]"
      ]
     },
     "execution_count": 131,
     "metadata": {},
     "output_type": "execute_result"
    }
   ],
   "source": [
    "mean = df.mean(0)  #find the mean of each column (variable)\n",
    "df2 = df.apply(lambda x: x - mean, axis = 1)  # subtract the mean sample vector from each row\n",
    "df2"
   ]
  },
  {
   "cell_type": "markdown",
   "metadata": {},
   "source": [
    "__Step 2:__ Now we can compute our covariance matrix $S = \\frac{1}{n-1}Z^T Z$. Our observation matrix has dimensions $4\\times 150$, and therefore when we multiply it by its transpose (which has dimensions $150 \\times 4$) we should expect a $4 \\times 4$ matrix. "
   ]
  },
  {
   "cell_type": "code",
   "execution_count": 132,
   "metadata": {},
   "outputs": [
    {
     "data": {
      "text/html": [
       "<div>\n",
       "<style scoped>\n",
       "    .dataframe tbody tr th:only-of-type {\n",
       "        vertical-align: middle;\n",
       "    }\n",
       "\n",
       "    .dataframe tbody tr th {\n",
       "        vertical-align: top;\n",
       "    }\n",
       "\n",
       "    .dataframe thead th {\n",
       "        text-align: right;\n",
       "    }\n",
       "</style>\n",
       "<table border=\"1\" class=\"dataframe\">\n",
       "  <thead>\n",
       "    <tr style=\"text-align: right;\">\n",
       "      <th></th>\n",
       "      <th>sepal length</th>\n",
       "      <th>sepal width</th>\n",
       "      <th>petal length</th>\n",
       "      <th>petal width</th>\n",
       "    </tr>\n",
       "  </thead>\n",
       "  <tbody>\n",
       "    <tr>\n",
       "      <th>sepal length</th>\n",
       "      <td>35.059396</td>\n",
       "      <td>17.926040</td>\n",
       "      <td>23.384228</td>\n",
       "      <td>7.568121</td>\n",
       "    </tr>\n",
       "    <tr>\n",
       "      <th>sepal width</th>\n",
       "      <td>17.926040</td>\n",
       "      <td>9.577517</td>\n",
       "      <td>11.234295</td>\n",
       "      <td>3.567315</td>\n",
       "    </tr>\n",
       "    <tr>\n",
       "      <th>petal length</th>\n",
       "      <td>23.384228</td>\n",
       "      <td>11.234295</td>\n",
       "      <td>17.335570</td>\n",
       "      <td>5.832013</td>\n",
       "    </tr>\n",
       "    <tr>\n",
       "      <th>petal width</th>\n",
       "      <td>7.568121</td>\n",
       "      <td>3.567315</td>\n",
       "      <td>5.832013</td>\n",
       "      <td>2.028859</td>\n",
       "    </tr>\n",
       "  </tbody>\n",
       "</table>\n",
       "</div>"
      ],
      "text/plain": [
       "              sepal length  sepal width  petal length  petal width\n",
       "sepal length     35.059396    17.926040     23.384228     7.568121\n",
       "sepal width      17.926040     9.577517     11.234295     3.567315\n",
       "petal length     23.384228    11.234295     17.335570     5.832013\n",
       "petal width       7.568121     3.567315      5.832013     2.028859"
      ]
     },
     "execution_count": 132,
     "metadata": {},
     "output_type": "execute_result"
    }
   ],
   "source": [
    "S = (1/149) * (Z.T @ Z)\n",
    "S"
   ]
  },
  {
   "cell_type": "markdown",
   "metadata": {},
   "source": [
    "As predicted we get a 4 by 4 matrix, whose diagonal entries __$S_{ii}$__ will contain the variance of variable $i$, and entries $S_{i,j}$ ($i \\not = j)$ will contain the covarience between variable $i$ and $j$. There is a very easy to follow outline of this in the following paper: http://www.math.union.edu/~jaureguj/PCA.pdf"
   ]
  },
  {
   "cell_type": "markdown",
   "metadata": {},
   "source": [
    "__Step 3:__ As discussed in the above linked paper, we see that the eigenvectors of this matrix will clue us into the directions of variance in our data, and the corresponding egenvalues will tell us the magnitude of that variance. In order to calculate the eigenvalues and eigenvectors, it is useful to convert our data frame into a NumPy ndarray:"
   ]
  },
  {
   "cell_type": "code",
   "execution_count": 133,
   "metadata": {},
   "outputs": [],
   "source": [
    "S = S.to_numpy()\n",
    "vals, vects = np.linalg.eig(S)"
   ]
  },
  {
   "cell_type": "markdown",
   "metadata": {},
   "source": [
    "__Step 4:__ The next step is important, and perhaps easy to forget so close to the end. We must sort our eigenvalues in decreasing order: $$\\lambda_1 > \\lambda_2 > \\dots > \\lambda_m$$\n",
    "\n",
    "and compose a matrix of the associated eigenvectors in that same order: $$P = \\bigg[ v_1 | v_2 | \\dots | v_m \\bigg]$$ \n",
    "\n",
    "The magnitude of each eigenvalue is a measure of the variance in our data, and each correspending eigenvector points in the direction of that variation. \n",
    "\n",
    "While `numpy.linalg.eig()` does not return our eigenvectors and values in descending order, it does return them such that:\n",
    "\n",
    ">\"such that the column v[:,i] is the eigenvector $v_i$ corresponding to the eigenvalue w[i] $\\lambda_i$ .\"\n",
    "\n",
    "Making use of this, we will use numpy.argsort() to get indices to sort our to arrays by:"
   ]
  },
  {
   "cell_type": "code",
   "execution_count": 134,
   "metadata": {},
   "outputs": [
    {
     "data": {
      "text/plain": [
       "(array([6.17887959e+01, 2.10807431e+00, 8.07786533e-02, 2.36933669e-02]),\n",
       " array([[ 0.75116805,  0.28583096,  0.49942378,  0.32345496],\n",
       "        [ 0.37978837,  0.54488976, -0.67502499, -0.32124324],\n",
       "        [ 0.51315094, -0.70889874, -0.05471983, -0.48077482],\n",
       "        [ 0.16787934, -0.34475845, -0.54029889,  0.74902286]]))"
      ]
     },
     "execution_count": 134,
     "metadata": {},
     "output_type": "execute_result"
    }
   ],
   "source": [
    "idx = np.argsort(vals)[::-1] #gives us indices that will sort in descending order\n",
    "vals = vals[idx]\n",
    "vects = vects[:, idx]\n",
    "vals, vects"
   ]
  },
  {
   "cell_type": "markdown",
   "metadata": {},
   "source": [
    "__Step 6:__ To complete our Principle component analysis, we multiply compute $Z' = ZP$. This is the equivilent of rotating our data onto 4 new, orthogonal axes that maximize or variance in decreasing order. "
   ]
  },
  {
   "cell_type": "code",
   "execution_count": 135,
   "metadata": {},
   "outputs": [
    {
     "data": {
      "text/html": [
       "<div>\n",
       "<style scoped>\n",
       "    .dataframe tbody tr th:only-of-type {\n",
       "        vertical-align: middle;\n",
       "    }\n",
       "\n",
       "    .dataframe tbody tr th {\n",
       "        vertical-align: top;\n",
       "    }\n",
       "\n",
       "    .dataframe thead th {\n",
       "        text-align: right;\n",
       "    }\n",
       "</style>\n",
       "<table border=\"1\" class=\"dataframe\">\n",
       "  <thead>\n",
       "    <tr style=\"text-align: right;\">\n",
       "      <th></th>\n",
       "      <th>PCA1</th>\n",
       "      <th>PCA2</th>\n",
       "      <th>PCA3</th>\n",
       "      <th>PCA4</th>\n",
       "    </tr>\n",
       "  </thead>\n",
       "  <tbody>\n",
       "    <tr>\n",
       "      <th>0</th>\n",
       "      <td>5.912204</td>\n",
       "      <td>2.303442</td>\n",
       "      <td>-0.000194</td>\n",
       "      <td>0.001989</td>\n",
       "    </tr>\n",
       "    <tr>\n",
       "      <th>1</th>\n",
       "      <td>5.572076</td>\n",
       "      <td>1.973831</td>\n",
       "      <td>0.237434</td>\n",
       "      <td>0.097919</td>\n",
       "    </tr>\n",
       "    <tr>\n",
       "      <th>2</th>\n",
       "      <td>5.446485</td>\n",
       "      <td>2.096533</td>\n",
       "      <td>0.008016</td>\n",
       "      <td>0.017057</td>\n",
       "    </tr>\n",
       "    <tr>\n",
       "      <th>3</th>\n",
       "      <td>5.436019</td>\n",
       "      <td>1.871681</td>\n",
       "      <td>0.014632</td>\n",
       "      <td>-0.079319</td>\n",
       "    </tr>\n",
       "    <tr>\n",
       "      <th>4</th>\n",
       "      <td>5.875066</td>\n",
       "      <td>2.329348</td>\n",
       "      <td>-0.117639</td>\n",
       "      <td>-0.062481</td>\n",
       "    </tr>\n",
       "    <tr>\n",
       "      <th>...</th>\n",
       "      <td>...</td>\n",
       "      <td>...</td>\n",
       "      <td>...</td>\n",
       "      <td>...</td>\n",
       "    </tr>\n",
       "    <tr>\n",
       "      <th>145</th>\n",
       "      <td>9.226698</td>\n",
       "      <td>-0.929481</td>\n",
       "      <td>-0.206166</td>\n",
       "      <td>0.426142</td>\n",
       "    </tr>\n",
       "    <tr>\n",
       "      <th>146</th>\n",
       "      <td>8.566555</td>\n",
       "      <td>-1.036575</td>\n",
       "      <td>0.158640</td>\n",
       "      <td>0.253927</td>\n",
       "    </tr>\n",
       "    <tr>\n",
       "      <th>147</th>\n",
       "      <td>9.026101</td>\n",
       "      <td>-0.883220</td>\n",
       "      <td>-0.143961</td>\n",
       "      <td>0.136744</td>\n",
       "    </tr>\n",
       "    <tr>\n",
       "      <th>148</th>\n",
       "      <td>9.105660</td>\n",
       "      <td>-0.996221</td>\n",
       "      <td>-0.736832</td>\n",
       "      <td>0.039762</td>\n",
       "    </tr>\n",
       "    <tr>\n",
       "      <th>149</th>\n",
       "      <td>8.490509</td>\n",
       "      <td>-0.914877</td>\n",
       "      <td>-0.330084</td>\n",
       "      <td>-0.159056</td>\n",
       "    </tr>\n",
       "  </tbody>\n",
       "</table>\n",
       "<p>150 rows × 4 columns</p>\n",
       "</div>"
      ],
      "text/plain": [
       "         PCA1      PCA2      PCA3      PCA4\n",
       "0    5.912204  2.303442 -0.000194  0.001989\n",
       "1    5.572076  1.973831  0.237434  0.097919\n",
       "2    5.446485  2.096533  0.008016  0.017057\n",
       "3    5.436019  1.871681  0.014632 -0.079319\n",
       "4    5.875066  2.329348 -0.117639 -0.062481\n",
       "..        ...       ...       ...       ...\n",
       "145  9.226698 -0.929481 -0.206166  0.426142\n",
       "146  8.566555 -1.036575  0.158640  0.253927\n",
       "147  9.026101 -0.883220 -0.143961  0.136744\n",
       "148  9.105660 -0.996221 -0.736832  0.039762\n",
       "149  8.490509 -0.914877 -0.330084 -0.159056\n",
       "\n",
       "[150 rows x 4 columns]"
      ]
     },
     "execution_count": 135,
     "metadata": {},
     "output_type": "execute_result"
    }
   ],
   "source": [
    "Z_prime = Z @ vects\n",
    "Z_prime.reset_index(drop=True, inplace=True)\n",
    "Z_prime.columns = ['PCA1', 'PCA2', 'PCA3', 'PCA4']\n",
    "Z_prime"
   ]
  },
  {
   "cell_type": "markdown",
   "metadata": {},
   "source": [
    "And now we have our PCA table! This completes principle component analysis, but might leave us wondering whether we might not be able to reduce our data down. In order to find out the answe to this question, we want to see how much each principle component contributes to the total variance. Recall that our eigenvalues $\\lambda_1 \\dots \\lambda_4$ represent the amount of variance in our data, where the sum $\\sum \\lambda_i = T$ gives us total variance. \n",
    "\n",
    "If you are inclined to understand the math, think back to the covariance matrix that we calculated and recall that the 4 diagonal elements of that matrix were the variance of each of our 4 variables. It can be proved that the sum of the diagonals (trace, in linear algebra terms) of a matrix is equal to the sum of the eigenvalues of that same matrix:\n",
    "\n",
    "$$Tr(S) = \\sum S_{i,i} = \\sum \\lambda_i = T$$\n",
    "\n",
    "Therefore the magnitude of each eigenvalue $\\lambda_i$ gives us the fraction of variance that its corresponding principle component contributes: $\\frac{\\lambda_i}{T}$\n",
    "\n",
    "Let's find out how much each principle component contributes to the variance in our data:\n"
   ]
  },
  {
   "cell_type": "code",
   "execution_count": 136,
   "metadata": {},
   "outputs": [],
   "source": [
    "scree = 100*vals/np.sum(vals)"
   ]
  },
  {
   "cell_type": "markdown",
   "metadata": {},
   "source": [
    "In other words, we see that first PC contributes to roughly 96 percent of the variation in our data, while the second PC contributes about 3 percent. Combined, they make up for the vast majority of the variation seen in our data. A scree plot visualizes this nicely:"
   ]
  },
  {
   "cell_type": "code",
   "execution_count": 144,
   "metadata": {},
   "outputs": [
    {
     "data": {
      "text/plain": [
       "<matplotlib.axes._subplots.AxesSubplot at 0x2030d5de220>"
      ]
     },
     "execution_count": 144,
     "metadata": {},
     "output_type": "execute_result"
    },
    {
     "data": {
      "image/png": "[encoded data removed]",
      "text/plain": [
       "<Figure size 432x288 with 1 Axes>"
      ]
     },
     "metadata": {},
     "output_type": "display_data"
    }
   ],
   "source": [
    "exvar = pd.DataFrame({'Principle Component Axes': ['PCA1', 'PCA2', 'PCA3', 'PCA4'], \n",
    "                      '% Explained Variance': scree,\n",
    "                     })\n",
    "sb.barplot(x='Principle Component Axes', y='% Explained Variance', data=exvar)"
   ]
  },
  {
   "cell_type": "markdown",
   "metadata": {},
   "source": [
    "The visualization confirms that PC axes 3 and 4 add very little information, so lets drop them completely and plot our data on just two axes. "
   ]
  },
  {
   "cell_type": "code",
   "execution_count": 142,
   "metadata": {},
   "outputs": [
    {
     "data": {
      "text/plain": [
       "<seaborn.axisgrid.FacetGrid at 0x2030d098e80>"
      ]
     },
     "execution_count": 142,
     "metadata": {},
     "output_type": "execute_result"
    },
    {
     "data": {
      "image/png": "[encoded data removed]",
      "text/plain": [
       "<Figure size 360x360 with 1 Axes>"
      ]
     },
     "metadata": {},
     "output_type": "display_data"
    }
   ],
   "source": [
    "final_frame = Z_prime.loc[:, ['PCA1', 'PCA2']]\n",
    "sb.relplot(x='PCA1', y='PCA2', data=final_frame)"
   ]
  }
 ],
 "metadata": {
  "kernelspec": {
   "display_name": "Python 3",
   "language": "python",
   "name": "python3"
  },
  "language_info": {
   "codemirror_mode": {
    "name": "ipython",
    "version": 3
   },
   "file_extension": ".py",
   "mimetype": "text/x-python",
   "name": "python",
   "nbconvert_exporter": "python",
   "pygments_lexer": "ipython3",
   "version": "3.8.0"
  }
 },
 "nbformat": 4,
 "nbformat_minor": 4
}
